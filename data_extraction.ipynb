{
 "cells": [
  {
   "cell_type": "code",
   "execution_count": 7,
   "metadata": {},
   "outputs": [
    {
     "ename": "ModuleNotFoundError",
     "evalue": "No module named 'spacy'",
     "output_type": "error",
     "traceback": [
      "\u001b[0;31m---------------------------------------------------------------------------\u001b[0m",
      "\u001b[0;31mModuleNotFoundError\u001b[0m                       Traceback (most recent call last)",
      "\u001b[0;32m<ipython-input-7-ce50a4a58d7f>\u001b[0m in \u001b[0;36m<module>\u001b[0;34m\u001b[0m\n\u001b[0;32m----> 1\u001b[0;31m \u001b[0;32mimport\u001b[0m \u001b[0mspacy\u001b[0m \u001b[0;32mas\u001b[0m \u001b[0msp\u001b[0m\u001b[0;34m\u001b[0m\u001b[0;34m\u001b[0m\u001b[0m\n\u001b[0m\u001b[1;32m      2\u001b[0m \u001b[0;32mimport\u001b[0m \u001b[0mpandas\u001b[0m \u001b[0;32mas\u001b[0m \u001b[0mpd\u001b[0m\u001b[0;34m\u001b[0m\u001b[0;34m\u001b[0m\u001b[0m\n\u001b[1;32m      3\u001b[0m \u001b[0;32mfrom\u001b[0m \u001b[0mnumpy\u001b[0m \u001b[0;32mimport\u001b[0m \u001b[0mloadtxt\u001b[0m\u001b[0;34m\u001b[0m\u001b[0;34m\u001b[0m\u001b[0m\n\u001b[1;32m      4\u001b[0m \u001b[0;32mimport\u001b[0m \u001b[0mnumpy\u001b[0m \u001b[0;32mas\u001b[0m \u001b[0mnp\u001b[0m\u001b[0;34m\u001b[0m\u001b[0;34m\u001b[0m\u001b[0m\n\u001b[1;32m      5\u001b[0m \u001b[0;32mimport\u001b[0m \u001b[0mnltk\u001b[0m\u001b[0;34m\u001b[0m\u001b[0;34m\u001b[0m\u001b[0m\n",
      "\u001b[0;31mModuleNotFoundError\u001b[0m: No module named 'spacy'"
     ]
    }
   ],
   "source": [
    "import spacy as sp\n",
    "import pandas as pd\n",
    "from numpy import loadtxt\n",
    "import numpy as np\n",
    "import nltk\n",
    "from nltk.tokenize import sent_tokenize\n",
    "from nltk.tokenize import word_tokenize\n",
    "import re\n",
    "from spacy.lang.en.stop_words import STOP_WORDS\n",
    "nltk.download('punkt')\n",
    "nltk.download('words')\n",
    "nlp = sp.load('en_core_web_sm')\n"
   ]
  },
  {
   "cell_type": "code",
   "execution_count": 19,
   "metadata": {},
   "outputs": [],
   "source": [
    "df_incidents = pd.read_csv(r'output.csv')"
   ]
  },
  {
   "cell_type": "code",
   "execution_count": 118,
   "metadata": {},
   "outputs": [
    {
     "data": {
      "text/html": [
       "<div>\n",
       "<style scoped>\n",
       "    .dataframe tbody tr th:only-of-type {\n",
       "        vertical-align: middle;\n",
       "    }\n",
       "\n",
       "    .dataframe tbody tr th {\n",
       "        vertical-align: top;\n",
       "    }\n",
       "\n",
       "    .dataframe thead th {\n",
       "        text-align: right;\n",
       "    }\n",
       "</style>\n",
       "<table border=\"1\" class=\"dataframe\">\n",
       "  <thead>\n",
       "    <tr style=\"text-align: right;\">\n",
       "      <th></th>\n",
       "      <th>Unnamed: 0</th>\n",
       "      <th>Inc. ID</th>\n",
       "      <th>LSR Life Saving Rules - Key</th>\n",
       "      <th>LSR Life Saving Rules</th>\n",
       "      <th>Summary</th>\n",
       "      <th>Noun Phrases</th>\n",
       "      <th>Verbs</th>\n",
       "      <th>Summary Nouns</th>\n",
       "      <th>BID Immediate Action Description</th>\n",
       "      <th>Immediate Action Noun Phrases</th>\n",
       "      <th>Immediate Action Verbs</th>\n",
       "      <th>Immediate Action Nouns</th>\n",
       "      <th>Single Summary Nouns</th>\n",
       "      <th>Immediate Action Single Nouns</th>\n",
       "      <th>Excavate Incidents Summary</th>\n",
       "      <th>Excavate Incidents Immediate Action</th>\n",
       "      <th>Excavate Incidents Summary Verbs</th>\n",
       "      <th>Excavate Incidents Immediate Action Verbs</th>\n",
       "    </tr>\n",
       "  </thead>\n",
       "  <tbody>\n",
       "    <tr>\n",
       "      <th>0</th>\n",
       "      <td>0</td>\n",
       "      <td>226505</td>\n",
       "      <td>1</td>\n",
       "      <td>Drive Safely and Without Distraction</td>\n",
       "      <td>Due to blizzard conditions on my drive to work...</td>\n",
       "      <td>['blizzard drive work morning']</td>\n",
       "      <td>['decide']</td>\n",
       "      <td>['blizzard', 'condition', 'drive', 'work', 'mo...</td>\n",
       "      <td>NaN</td>\n",
       "      <td>[]</td>\n",
       "      <td>[]</td>\n",
       "      <td>[]</td>\n",
       "      <td>[blizzard, drive, work, morning]</td>\n",
       "      <td>[]</td>\n",
       "      <td></td>\n",
       "      <td></td>\n",
       "      <td></td>\n",
       "      <td></td>\n",
       "    </tr>\n",
       "    <tr>\n",
       "      <th>1</th>\n",
       "      <td>1</td>\n",
       "      <td>226513</td>\n",
       "      <td>10</td>\n",
       "      <td>No Life Saving rule applies</td>\n",
       "      <td>Due to heaving, compound man gate was misalign...</td>\n",
       "      <td>['heaving compound man gate latch latch']</td>\n",
       "      <td>[]</td>\n",
       "      <td>['heaving', 'compound', 'man', 'gate', 'latch']</td>\n",
       "      <td>NaN</td>\n",
       "      <td>[]</td>\n",
       "      <td>[]</td>\n",
       "      <td>[]</td>\n",
       "      <td>[heaving, compound, man, gate]</td>\n",
       "      <td>[]</td>\n",
       "      <td></td>\n",
       "      <td></td>\n",
       "      <td></td>\n",
       "      <td></td>\n",
       "    </tr>\n",
       "    <tr>\n",
       "      <th>2</th>\n",
       "      <td>2</td>\n",
       "      <td>226520</td>\n",
       "      <td>10</td>\n",
       "      <td>No Life Saving rule applies</td>\n",
       "      <td>Walking across the parking lot from one buildi...</td>\n",
       "      <td>['parking lot', 'black ice', 'salt building', ...</td>\n",
       "      <td>['walk', 'build', 'stop', 'turn', 'get', 'come...</td>\n",
       "      <td>['parking', 'lot', 'building', 'ice', 'salt', ...</td>\n",
       "      <td>NaN</td>\n",
       "      <td>[]</td>\n",
       "      <td>[]</td>\n",
       "      <td>[]</td>\n",
       "      <td>[parking, lot, ice, salt, building, ice, walki...</td>\n",
       "      <td>[]</td>\n",
       "      <td></td>\n",
       "      <td></td>\n",
       "      <td></td>\n",
       "      <td></td>\n",
       "    </tr>\n",
       "    <tr>\n",
       "      <th>3</th>\n",
       "      <td>3</td>\n",
       "      <td>226523</td>\n",
       "      <td>2</td>\n",
       "      <td>Use the Appropriate Personal Protective Equipment</td>\n",
       "      <td>General communication- while making repairs to...</td>\n",
       "      <td>['unit phases']</td>\n",
       "      <td>['make', 'work', 'make']</td>\n",
       "      <td>['repair', 'unit', 'phase', 'page', 'check', '...</td>\n",
       "      <td>NaN</td>\n",
       "      <td>[]</td>\n",
       "      <td>[]</td>\n",
       "      <td>[]</td>\n",
       "      <td>[unit]</td>\n",
       "      <td>[]</td>\n",
       "      <td></td>\n",
       "      <td></td>\n",
       "      <td></td>\n",
       "      <td></td>\n",
       "    </tr>\n",
       "    <tr>\n",
       "      <th>4</th>\n",
       "      <td>4</td>\n",
       "      <td>226523</td>\n",
       "      <td>3</td>\n",
       "      <td>Conduct a pre Job Safety Analysis (JSA)</td>\n",
       "      <td>General communication- while making repairs to...</td>\n",
       "      <td>['unit phases']</td>\n",
       "      <td>['make', 'work', 'make']</td>\n",
       "      <td>['repair', 'unit', 'phase', 'page', 'check', '...</td>\n",
       "      <td>NaN</td>\n",
       "      <td>[]</td>\n",
       "      <td>[]</td>\n",
       "      <td>[]</td>\n",
       "      <td>[unit]</td>\n",
       "      <td>[]</td>\n",
       "      <td></td>\n",
       "      <td></td>\n",
       "      <td></td>\n",
       "      <td></td>\n",
       "    </tr>\n",
       "  </tbody>\n",
       "</table>\n",
       "</div>"
      ],
      "text/plain": [
       "   Unnamed: 0  Inc. ID  LSR Life Saving Rules - Key  \\\n",
       "0           0   226505                            1   \n",
       "1           1   226513                           10   \n",
       "2           2   226520                           10   \n",
       "3           3   226523                            2   \n",
       "4           4   226523                            3   \n",
       "\n",
       "                               LSR Life Saving Rules  \\\n",
       "0               Drive Safely and Without Distraction   \n",
       "1                        No Life Saving rule applies   \n",
       "2                        No Life Saving rule applies   \n",
       "3  Use the Appropriate Personal Protective Equipment   \n",
       "4            Conduct a pre Job Safety Analysis (JSA)   \n",
       "\n",
       "                                             Summary  \\\n",
       "0  Due to blizzard conditions on my drive to work...   \n",
       "1  Due to heaving, compound man gate was misalign...   \n",
       "2  Walking across the parking lot from one buildi...   \n",
       "3  General communication- while making repairs to...   \n",
       "4  General communication- while making repairs to...   \n",
       "\n",
       "                                        Noun Phrases  \\\n",
       "0                    ['blizzard drive work morning']   \n",
       "1          ['heaving compound man gate latch latch']   \n",
       "2  ['parking lot', 'black ice', 'salt building', ...   \n",
       "3                                    ['unit phases']   \n",
       "4                                    ['unit phases']   \n",
       "\n",
       "                                               Verbs  \\\n",
       "0                                         ['decide']   \n",
       "1                                                 []   \n",
       "2  ['walk', 'build', 'stop', 'turn', 'get', 'come...   \n",
       "3                           ['make', 'work', 'make']   \n",
       "4                           ['make', 'work', 'make']   \n",
       "\n",
       "                                       Summary Nouns  \\\n",
       "0  ['blizzard', 'condition', 'drive', 'work', 'mo...   \n",
       "1    ['heaving', 'compound', 'man', 'gate', 'latch']   \n",
       "2  ['parking', 'lot', 'building', 'ice', 'salt', ...   \n",
       "3  ['repair', 'unit', 'phase', 'page', 'check', '...   \n",
       "4  ['repair', 'unit', 'phase', 'page', 'check', '...   \n",
       "\n",
       "  BID Immediate Action Description Immediate Action Noun Phrases  \\\n",
       "0                              NaN                            []   \n",
       "1                              NaN                            []   \n",
       "2                              NaN                            []   \n",
       "3                              NaN                            []   \n",
       "4                              NaN                            []   \n",
       "\n",
       "  Immediate Action Verbs Immediate Action Nouns  \\\n",
       "0                     []                     []   \n",
       "1                     []                     []   \n",
       "2                     []                     []   \n",
       "3                     []                     []   \n",
       "4                     []                     []   \n",
       "\n",
       "                                Single Summary Nouns  \\\n",
       "0                   [blizzard, drive, work, morning]   \n",
       "1                     [heaving, compound, man, gate]   \n",
       "2  [parking, lot, ice, salt, building, ice, walki...   \n",
       "3                                             [unit]   \n",
       "4                                             [unit]   \n",
       "\n",
       "  Immediate Action Single Nouns Excavate Incidents Summary  \\\n",
       "0                            []                              \n",
       "1                            []                              \n",
       "2                            []                              \n",
       "3                            []                              \n",
       "4                            []                              \n",
       "\n",
       "  Excavate Incidents Immediate Action Excavate Incidents Summary Verbs  \\\n",
       "0                                                                        \n",
       "1                                                                        \n",
       "2                                                                        \n",
       "3                                                                        \n",
       "4                                                                        \n",
       "\n",
       "  Excavate Incidents Immediate Action Verbs  \n",
       "0                                            \n",
       "1                                            \n",
       "2                                            \n",
       "3                                            \n",
       "4                                            "
      ]
     },
     "execution_count": 118,
     "metadata": {},
     "output_type": "execute_result"
    }
   ],
   "source": [
    "df_incidents.head()"
   ]
  },
  {
   "cell_type": "code",
   "execution_count": 38,
   "metadata": {},
   "outputs": [
    {
     "name": "stderr",
     "output_type": "stream",
     "text": [
      "<ipython-input-38-5563a0bd2efc>:6: SettingWithCopyWarning: \n",
      "A value is trying to be set on a copy of a slice from a DataFrame\n",
      "\n",
      "See the caveats in the documentation: https://pandas.pydata.org/pandas-docs/stable/user_guide/indexing.html#returning-a-view-versus-a-copy\n",
      "  df_incidents['Immediate Action Single Nouns'][index] = [token.lemma_ for token in doc if token.pos_ == \"NOUN\"]\n"
     ]
    }
   ],
   "source": [
    "#Get Nouns in the Noun Phrases for the Immediate Action and Summary text\n",
    "df_incidents['Immediate Action Single Nouns'] = \" \"\n",
    "df_incidents['Single Summary Nouns'] = \" \"\n",
    "\n",
    "for index, value in enumerate(df_incidents['Immediate Action Noun Phrases']):\n",
    "    doc = nlp(value)\n",
    "    # Analyze syntax\n",
    "    df_incidents['Immediate Action Single Nouns'][index] = [token.lemma_ for token in doc if token.pos_ == \"NOUN\"]\n",
    "    \n",
    "for index, value in enumerate(df_incidents['Noun Phrases']):\n",
    "    doc = nlp(value)\n",
    "    # Analyze syntax\n",
    "    df_incidents['Single Summary Nouns'][index] = [token.lemma_ for token in doc if token.pos_ == \"NOUN\"]"
   ]
  },
  {
   "cell_type": "code",
   "execution_count": 52,
   "metadata": {},
   "outputs": [
    {
     "data": {
      "text/plain": [
       "Index(['Unnamed: 0', 'Inc. ID', 'LSR Life Saving Rules - Key',\n",
       "       'LSR Life Saving Rules', 'Summary', 'Noun Phrases', 'Verbs',\n",
       "       'Summary Nouns', 'BID Immediate Action Description',\n",
       "       'Immediate Action Noun Phrases', 'Immediate Action Verbs',\n",
       "       'Immediate Action Nouns', 'Single Summary Nouns',\n",
       "       'Immediate Action Single Nouns', 'Excavate Incidents Summary',\n",
       "       'Excavate Incidents Immediate Action'],\n",
       "      dtype='object')"
      ]
     },
     "execution_count": 52,
     "metadata": {},
     "output_type": "execute_result"
    }
   ],
   "source": [
    "df_incidents.columns"
   ]
  },
  {
   "cell_type": "code",
   "execution_count": 45,
   "metadata": {},
   "outputs": [],
   "source": [
    "text_file = open(\"lemma_keys.txt\", \"r\")\n",
    "keywords = text_file.read().splitlines()"
   ]
  },
  {
   "cell_type": "code",
   "execution_count": 86,
   "metadata": {},
   "outputs": [
    {
     "data": {
      "text/plain": [
       "['excavation',\n",
       " 'trench',\n",
       " 'slope',\n",
       " 'ditch',\n",
       " 'backfill',\n",
       " 'spill',\n",
       " 'sidewall',\n",
       " 'dig',\n",
       " 'excavator',\n",
       " 'cave',\n",
       " 'dirt',\n",
       " 'soil',\n",
       " 'trough',\n",
       " 'mud',\n",
       " 'incline',\n",
       " 'tilt',\n",
       " 'descend',\n",
       " 'sink',\n",
       " 'dip',\n",
       " 'rise',\n",
       " 'slant',\n",
       " 'underground',\n",
       " 'dig',\n",
       " 'out',\n",
       " 'excavate']"
      ]
     },
     "execution_count": 86,
     "metadata": {},
     "output_type": "execute_result"
    }
   ],
   "source": [
    "keywords"
   ]
  },
  {
   "cell_type": "code",
   "execution_count": 87,
   "metadata": {},
   "outputs": [
    {
     "name": "stderr",
     "output_type": "stream",
     "text": [
      "<ipython-input-87-b9979c1ad6e2>:4: SettingWithCopyWarning: \n",
      "A value is trying to be set on a copy of a slice from a DataFrame\n",
      "\n",
      "See the caveats in the documentation: https://pandas.pydata.org/pandas-docs/stable/user_guide/indexing.html#returning-a-view-versus-a-copy\n",
      "  df_incidents['Excavate Incidents Summary'][index] = True\n",
      "<ipython-input-87-b9979c1ad6e2>:7: SettingWithCopyWarning: \n",
      "A value is trying to be set on a copy of a slice from a DataFrame\n",
      "\n",
      "See the caveats in the documentation: https://pandas.pydata.org/pandas-docs/stable/user_guide/indexing.html#returning-a-view-versus-a-copy\n",
      "  df_incidents['Excavate Incidents Immediate Action'][index] = True\n"
     ]
    }
   ],
   "source": [
    "for i in keywords:\n",
    "    for index, value in enumerate(df_incidents['Verbs']):\n",
    "        if i in value or i in df_incidents['Single Summary Nouns'][index]:\n",
    "            df_incidents['Excavate Incidents Summary'][index] = True\n",
    "\n",
    "        if i in df_incidents['Immediate Action Single Nouns'][index] or i in df_incidents['Immediate Action Verbs'][index]:\n",
    "            df_incidents['Excavate Incidents Immediate Action'][index] = True\n"
   ]
  },
  {
   "cell_type": "code",
   "execution_count": 88,
   "metadata": {},
   "outputs": [
    {
     "data": {
      "text/plain": [
       "Index(['Unnamed: 0', 'Inc. ID', 'LSR Life Saving Rules - Key',\n",
       "       'LSR Life Saving Rules', 'Summary', 'Noun Phrases', 'Verbs',\n",
       "       'Summary Nouns', 'BID Immediate Action Description',\n",
       "       'Immediate Action Noun Phrases', 'Immediate Action Verbs',\n",
       "       'Immediate Action Nouns', 'Single Summary Nouns',\n",
       "       'Immediate Action Single Nouns', 'Excavate Incidents Summary',\n",
       "       'Excavate Incidents Immediate Action',\n",
       "       'Excavate Incidents Summary Verbs',\n",
       "       'Excavate Incidents Immediate Action Verbs'],\n",
       "      dtype='object')"
      ]
     },
     "execution_count": 88,
     "metadata": {},
     "output_type": "execute_result"
    }
   ],
   "source": [
    "df_incidents.columns"
   ]
  },
  {
   "cell_type": "code",
   "execution_count": 89,
   "metadata": {},
   "outputs": [],
   "source": [
    "df_safety = df_incidents.drop(['Unnamed: 0','Excavate Incidents Summary Verbs', 'Excavate Incidents Immediate Action Verbs'], axis=1)"
   ]
  },
  {
   "cell_type": "code",
   "execution_count": 90,
   "metadata": {},
   "outputs": [
    {
     "data": {
      "text/plain": [
       "Index(['Inc. ID', 'LSR Life Saving Rules - Key', 'LSR Life Saving Rules',\n",
       "       'Summary', 'Noun Phrases', 'Verbs', 'Summary Nouns',\n",
       "       'BID Immediate Action Description', 'Immediate Action Noun Phrases',\n",
       "       'Immediate Action Verbs', 'Immediate Action Nouns',\n",
       "       'Single Summary Nouns', 'Immediate Action Single Nouns',\n",
       "       'Excavate Incidents Summary', 'Excavate Incidents Immediate Action'],\n",
       "      dtype='object')"
      ]
     },
     "execution_count": 90,
     "metadata": {},
     "output_type": "execute_result"
    }
   ],
   "source": [
    "df_safety.columns"
   ]
  },
  {
   "cell_type": "code",
   "execution_count": 68,
   "metadata": {},
   "outputs": [],
   "source": [
    "df_safety.to_csv('excavation_incidents.csv')"
   ]
  },
  {
   "cell_type": "code",
   "execution_count": 83,
   "metadata": {},
   "outputs": [],
   "source": [
    "df_safety = pd.read_csv(r'excavation_incidents.csv')"
   ]
  },
  {
   "cell_type": "code",
   "execution_count": 91,
   "metadata": {},
   "outputs": [
    {
     "data": {
      "text/plain": [
       "Index(['Inc. ID', 'LSR Life Saving Rules - Key', 'LSR Life Saving Rules',\n",
       "       'Summary', 'Noun Phrases', 'Verbs', 'Summary Nouns',\n",
       "       'BID Immediate Action Description', 'Immediate Action Noun Phrases',\n",
       "       'Immediate Action Verbs', 'Immediate Action Nouns',\n",
       "       'Single Summary Nouns', 'Immediate Action Single Nouns',\n",
       "       'Excavate Incidents Summary', 'Excavate Incidents Immediate Action'],\n",
       "      dtype='object')"
      ]
     },
     "execution_count": 91,
     "metadata": {},
     "output_type": "execute_result"
    }
   ],
   "source": [
    "df_safety.columns"
   ]
  },
  {
   "cell_type": "code",
   "execution_count": 79,
   "metadata": {},
   "outputs": [],
   "source": [
    "df_safety = df_incidents.drop(['Unnamed: 0'], axis=1)"
   ]
  },
  {
   "cell_type": "code",
   "execution_count": 96,
   "metadata": {},
   "outputs": [
    {
     "name": "stderr",
     "output_type": "stream",
     "text": [
      "<ipython-input-96-4a42fe1a1806>:4: SettingWithCopyWarning: \n",
      "A value is trying to be set on a copy of a slice from a DataFrame\n",
      "\n",
      "See the caveats in the documentation: https://pandas.pydata.org/pandas-docs/stable/user_guide/indexing.html#returning-a-view-versus-a-copy\n",
      "  df_safety['Excavate Final Incidents'][index] = df_safety['Inc. ID'][index]\n"
     ]
    }
   ],
   "source": [
    "df_safety['Excavate Final Incidents'] = \" \"\n",
    "for index, value in enumerate(df_safety['Excavate Incidents Summary']):\n",
    "        if value == True or df_safety['Excavate Incidents Immediate Action'][index] == True:\n",
    "            df_safety['Excavate Final Incidents'][index] = df_safety['Inc. ID'][index]"
   ]
  },
  {
   "cell_type": "code",
   "execution_count": 98,
   "metadata": {},
   "outputs": [],
   "source": [
    "df_safety.to_csv('excavation_incidents.csv')"
   ]
  },
  {
   "cell_type": "code",
   "execution_count": 99,
   "metadata": {},
   "outputs": [],
   "source": [
    "df_safety = pd.read_csv(r'excavation_incidents.csv')"
   ]
  },
  {
   "cell_type": "code",
   "execution_count": 100,
   "metadata": {},
   "outputs": [
    {
     "data": {
      "text/plain": [
       "Index(['Inc. ID', 'LSR Life Saving Rules - Key', 'LSR Life Saving Rules',\n",
       "       'Summary', 'Noun Phrases', 'Verbs', 'Summary Nouns',\n",
       "       'BID Immediate Action Description', 'Immediate Action Noun Phrases',\n",
       "       'Immediate Action Verbs', 'Immediate Action Nouns',\n",
       "       'Single Summary Nouns', 'Immediate Action Single Nouns',\n",
       "       'Excavate Incidents Summary', 'Excavate Incidents Immediate Action',\n",
       "       'Excavate Final Incidents'],\n",
       "      dtype='object')"
      ]
     },
     "execution_count": 100,
     "metadata": {},
     "output_type": "execute_result"
    }
   ],
   "source": [
    "df_safety.columns"
   ]
  },
  {
   "cell_type": "code",
   "execution_count": 109,
   "metadata": {},
   "outputs": [],
   "source": [
    "df_groundDisturbances = df_safety[df_safety['LSR Life Saving Rules - Key'] == 9 ]"
   ]
  },
  {
   "cell_type": "code",
   "execution_count": 117,
   "metadata": {},
   "outputs": [
    {
     "data": {
      "text/plain": [
       "2297"
      ]
     },
     "execution_count": 117,
     "metadata": {},
     "output_type": "execute_result"
    }
   ],
   "source": [
    "len(df_groundDisturbances)"
   ]
  },
  {
   "cell_type": "code",
   "execution_count": 114,
   "metadata": {},
   "outputs": [],
   "source": [
    "df_excavate = df_groundDisturbances[(df_groundDisturbances['Excavate Incidents Summary'] == 'TRUE') | (df_groundDisturbances['Excavate Incidents Immediate Action'] == 'TRUE')]"
   ]
  },
  {
   "cell_type": "code",
   "execution_count": 116,
   "metadata": {},
   "outputs": [
    {
     "data": {
      "text/plain": [
       "1110"
      ]
     },
     "execution_count": 116,
     "metadata": {},
     "output_type": "execute_result"
    }
   ],
   "source": [
    "len(df_excavate)"
   ]
  },
  {
   "cell_type": "code",
   "execution_count": 119,
   "metadata": {},
   "outputs": [],
   "source": [
    "df_excavate.to_csv('final_output.csv')"
   ]
  },
  {
   "cell_type": "code",
   "execution_count": null,
   "metadata": {},
   "outputs": [],
   "source": []
  }
 ],
 "metadata": {
  "instance_type": "ml.m5.xlarge",
  "kernelspec": {
   "display_name": "Python 3 (TensorFlow 2.6 Python 3.8 CPU Optimized)",
   "language": "python",
   "name": "python3__SAGEMAKER_INTERNAL__arn:aws:sagemaker:us-west-2:236514542706:image/tensorflow-2.6-cpu-py38-ubuntu20.04-v1"
  },
  "language_info": {
   "codemirror_mode": {
    "name": "ipython",
    "version": 3
   },
   "file_extension": ".py",
   "mimetype": "text/x-python",
   "name": "python",
   "nbconvert_exporter": "python",
   "pygments_lexer": "ipython3",
   "version": "3.8.2"
  }
 },
 "nbformat": 4,
 "nbformat_minor": 4
}
